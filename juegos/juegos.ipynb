{
 "cells": [
  {
   "cell_type": "code",
   "id": "initial_id",
   "metadata": {
    "collapsed": true,
    "ExecuteTime": {
     "end_time": "2024-07-11T12:47:05.873271Z",
     "start_time": "2024-07-11T12:47:04.342149Z"
    }
   },
   "source": [
    "from nuscenes import NuScenes\n",
    "from dotenv import load_dotenv\n",
    "import os\n",
    "\n",
    "load_dotenv()\n",
    "path = os.environ.get(\"NUSCENES_MINI\")\n",
    "\n",
    "nusc = NuScenes(version='v1.0-mini', dataroot=path, verbose=True)"
   ],
   "outputs": [
    {
     "name": "stdout",
     "output_type": "stream",
     "text": [
      "======\n",
      "Loading NuScenes tables for version v1.0-mini...\n",
      "Loading nuScenes-lidarseg...\n",
      "32 category,\n",
      "8 attribute,\n",
      "4 visibility,\n",
      "911 instance,\n",
      "12 sensor,\n",
      "120 calibrated_sensor,\n",
      "31206 ego_pose,\n",
      "8 log,\n",
      "10 scene,\n",
      "404 sample,\n",
      "31206 sample_data,\n",
      "18538 sample_annotation,\n",
      "4 map,\n",
      "404 lidarseg,\n",
      "Done loading in 0.338 seconds.\n",
      "======\n",
      "Reverse indexing ...\n",
      "Done reverse indexing in 0.1 seconds.\n",
      "======\n"
     ]
    }
   ],
   "execution_count": 1
  },
  {
   "metadata": {
    "ExecuteTime": {
     "end_time": "2024-07-11T13:51:22.428474Z",
     "start_time": "2024-07-11T13:51:22.414776Z"
    }
   },
   "cell_type": "code",
   "source": [
    "cfg = {\n",
    "    \"dataset\": \"nuscenes\",\n",
    "    \"nusc_version\": \"v1.0-mini\",\n",
    "    \"pc_range\": [\n",
    "        -70.0,\n",
    "        -70.0,\n",
    "        -4.5,\n",
    "        70.0,\n",
    "        70.0,\n",
    "        4.5\n",
    "    ],\n",
    "    \"voxel_size\": 0.2,\n",
    "    \"n_input\": 6,\n",
    "    \"input_step\": 1,\n",
    "    \"n_output\": 6,\n",
    "    \"output_step\": 1,\n",
    "    \"model_dir\": \"models/nusc/3s_forecasting\",\n",
    "    \"model_type\": \"dynamic\",\n",
    "    \"model_name\": \"occ\",\n",
    "    \"loss_type\": \"l1\",\n",
    "    \"chamfer_epoch\": -1,\n",
    "    \"optimizer\": \"Adam\",\n",
    "    \"lr_start\": 0.0005,\n",
    "    \"lr_epoch\": 5,\n",
    "    \"lr_decay\": 0.1,\n",
    "    \"num_epoch\": 15,\n",
    "    \"batch_size\": 8,\n",
    "    \"num_workers\": 8\n",
    "}\n",
    "\n",
    "dataset_kwargs = {\n",
    "    \"pc_range\": cfg[\"pc_range\"],\n",
    "    \"voxel_size\": cfg[\"voxel_size\"],\n",
    "    \"n_input\": cfg[\"n_input\"],\n",
    "    \"input_step\": cfg[\"input_step\"],\n",
    "    \"n_output\": cfg[\"n_output\"],\n",
    "    \"output_step\": cfg[\"output_step\"],\n",
    "}\n",
    "data_loader_kwargs = {\n",
    "    \"pin_memory\": False,  # NOTE\n",
    "    \"shuffle\": True,\n",
    "    \"batch_size\": 1,\n",
    "    \"num_workers\": 1,\n",
    "}\n"
   ],
   "id": "d35e541123b9a145",
   "outputs": [],
   "execution_count": 2
  },
  {
   "metadata": {
    "ExecuteTime": {
     "end_time": "2024-07-11T14:01:15.791834Z",
     "start_time": "2024-07-11T14:01:15.784577Z"
    }
   },
   "cell_type": "code",
   "source": [
    "from torch.utils.data import DataLoader\n",
    "from data.common import CollateFn\n",
    "from data.nusc import nuScenesDataset\n",
    "\n",
    "data_loader = DataLoader(\n",
    "    nuScenesDataset(nusc, \"mini_train\", dataset_kwargs),\n",
    "    collate_fn=CollateFn,\n",
    "    **data_loader_kwargs,\n",
    ")\n",
    "\n",
    "data_loader"
   ],
   "id": "58ab80e79e5716aa",
   "outputs": [
    {
     "name": "stdout",
     "output_type": "stream",
     "text": [
      "mini_train: 227 valid samples over 8 scenes\n"
     ]
    },
    {
     "data": {
      "text/plain": [
       "<torch.utils.data.dataloader.DataLoader at 0x30bd8f550>"
      ]
     },
     "execution_count": 5,
     "metadata": {},
     "output_type": "execute_result"
    }
   ],
   "execution_count": 5
  },
  {
   "metadata": {},
   "cell_type": "code",
   "outputs": [],
   "execution_count": null,
   "source": "",
   "id": "9406c542b3dedc11"
  }
 ],
 "metadata": {
  "kernelspec": {
   "display_name": "Python 3",
   "language": "python",
   "name": "python3"
  },
  "language_info": {
   "codemirror_mode": {
    "name": "ipython",
    "version": 2
   },
   "file_extension": ".py",
   "mimetype": "text/x-python",
   "name": "python",
   "nbconvert_exporter": "python",
   "pygments_lexer": "ipython2",
   "version": "2.7.6"
  }
 },
 "nbformat": 4,
 "nbformat_minor": 5
}
